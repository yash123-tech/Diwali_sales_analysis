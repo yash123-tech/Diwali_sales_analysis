{
 "cells": [
  {
   "cell_type": "code",
   "execution_count": null,
   "id": "022e5405-585b-4783-951e-c71e4fadb2d1",
   "metadata": {},
   "outputs": [],
   "source": []
  }
 ],
 "metadata": {
  "kernelspec": {
   "display_name": "",
   "name": ""
  },
  "language_info": {
   "name": ""
  }
 },
 "nbformat": 4,
 "nbformat_minor": 5
}
